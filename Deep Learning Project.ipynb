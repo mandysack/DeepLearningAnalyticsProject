{
 "cells": [
  {
   "cell_type": "markdown",
   "metadata": {},
   "source": [
    "# Deep Learning Project"
   ]
  },
  {
   "cell_type": "markdown",
   "metadata": {},
   "source": [
    "Developed by: Mandy Sack\n",
    "August 2019\n"
   ]
  },
  {
   "cell_type": "code",
   "execution_count": null,
   "metadata": {},
   "outputs": [],
   "source": [
    "import scipy\n",
    "import numpy\n",
    "import matplotlib\n",
    "import pandas as pd\n",
    "import sklearn\n",
    "import os"
   ]
  },
  {
   "cell_type": "code",
   "execution_count": null,
   "metadata": {},
   "outputs": [],
   "source": [
    "# import the data\n",
    "#dataLocation = \"C:\\\\Users\\\\Mandy.Sack\\\\Documents\\\\DLA\\social_honeypot_icwsm_2011\\content_polluters.csv\"\n",
    "dataset = pd.read_csv(dataLocation)\n"
   ]
  },
  {
   "cell_type": "code",
   "execution_count": null,
   "metadata": {},
   "outputs": [],
   "source": [
    "# import the data\n",
    "#first, verify you have the files in the correct location\n",
    "\n",
    "print(os.path.isdir("social_honeypot_icwsm_2011"))\n",
    "print(os.path.isfile("social_honeypot_icwsm_2011\content_polluters.csv"))\n",
    "print(os.path.isfile("social_honeypot_icwsm_2011\legitimate_users.csv"))\n",
    "\n",
    "bDcolnames=['UserID','CreatedAt','CollectedAt', 'NumberOfFollowings', 'NumberOfFollowers', 'NumberOfTweets','LengthOfScreenName','LengthOfDescriptionInUserProfile']\n", 
    "badData = pd.read_csv("social_honeypot_icwsm_2011\content_polluters.csv", names=bDcolnames)\n",
    "\n",
    "nDcolnames=['UserID','CreatedAt','CollectedAt', 'NumberOfFollowings', 'NumberOfFollowers', 'NumberOfTweets','LengthOfScreenName','LengthOfDescriptionInUserProfile']\n",
    "normalData = pd.read_csv("social_honeypot_icwsm_2011\legitimate_users.csv", names=nDcolnames)\n",
    "\n",
    "#TODO: make this configurable to enable your own data to be passed in \n"
   ]
  },
  {
   "cell_type": "code",
   "execution_count": null,
   "metadata": {},
   "outputs": [],
   "source": ["print(badData.head(3))\n",
    "print(normalData.head(3))\n",
    "\n",         
    ]
  }
 ],
 "metadata": {
  "kernelspec": {
   "display_name": "Python 3",
   "language": "python",
   "name": "python3"
  },
  "language_info": {
   "codemirror_mode": {
    "name": "ipython",
    "version": 3
   },
   "file_extension": ".py",
   "mimetype": "text/x-python",
   "name": "python",
   "nbconvert_exporter": "python",
   "pygments_lexer": "ipython3",
   "version": "3.7.3"
  }
 },
 "nbformat": 4,
 "nbformat_minor": 2
}
