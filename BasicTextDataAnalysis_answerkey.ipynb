{
 "cells": [
  {
   "cell_type": "markdown",
   "metadata": {},
   "source": [
    "# Basics of Text Data Analysis"
   ]
  },
  {
   "cell_type": "code",
   "execution_count": 1,
   "metadata": {},
   "outputs": [],
   "source": [
    "import pandas as pd\n",
    "import numpy as np\n",
    "import matplotlib.pyplot as plt\n",
    "%matplotlib inline\n",
    "import os"
   ]
  },
  {
   "cell_type": "markdown",
   "metadata": {},
   "source": [
    "Update the path as needed to read in the content polluters and legitmate users csv files into separate dataframes. \n",
    "\n",
    "First, verify you have the files in the correct location, you should see 3 True's print out of the next cell."
   ]
  },
  {
   "cell_type": "code",
   "execution_count": 2,
   "metadata": {},
   "outputs": [
    {
     "name": "stdout",
     "output_type": "stream",
     "text": [
      "True\n",
      "True\n",
      "True\n"
     ]
    }
   ],
   "source": [
    "\n",
    "print(os.path.isdir(\"data\"))\n",
    "\n",
    "dataDir = \"/Users/mandysack/Desktop/DeepLearningAnalyticsProject-master/data/\"\n",
    "\n",
    "print(os.path.isfile(dataDir+\"content_polluters.csv\"))\n",
    "print(os.path.isfile(dataDir+\"legitimate_users.csv\"))\n",
    "\n",
    "bDcolnames=['UserID','CreatedAt','CollectedAt', 'NumberOfFollowings', 'NumberOfFollowers', 'NumberOfTweets','LengthOfScreenName','LengthOfDescriptionInUserProfile','BadUser'] \n",
    "badData = pd.read_csv(dataDir+\"content_polluters.csv\", names=bDcolnames, dtype = {'NumberOfFollowers' : np.int64})\n",
    "\n",
    "nDcolnames=['UserID','CreatedAt','CollectedAt', 'NumberOfFollowings', 'NumberOfFollowers', 'NumberOfTweets','LengthOfScreenName','LengthOfDescriptionInUserProfile','BadUser']\n",
    "normalData = pd.read_csv(dataDir+\"legitimate_users.csv\", names=nDcolnames)"
   ]
  },
  {
   "cell_type": "markdown",
   "metadata": {},
   "source": [
    "List the column headers\n",
    "### How many columns are there?"
   ]
  },
  {
   "cell_type": "code",
   "execution_count": null,
   "metadata": {},
   "outputs": [],
   "source": [
    "print(normalData.columns)\n",
    "print(badData.columns)"
   ]
  },
  {
   "cell_type": "markdown",
   "metadata": {},
   "source": [
    "List the number of rows, using the shape function will return the (rows, columns)\n",
    "### How many rows and columns are there?"
   ]
  },
  {
   "cell_type": "code",
   "execution_count": null,
   "metadata": {},
   "outputs": [],
   "source": [
    "print(normalData.shape)\n",
    "print(badData.shape)"
   ]
  },
  {
   "cell_type": "markdown",
   "metadata": {},
   "source": [
    "Sort the dataframes by the 'CollectedAt' column"
   ]
  },
  {
   "cell_type": "code",
   "execution_count": null,
   "metadata": {},
   "outputs": [],
   "source": [
    "normalData.sort_values(by=['CollectedAt'], inplace=True)\n",
    "badData.sort_values(by=['CollectedAt'], inplace=True)"
   ]
  },
  {
   "cell_type": "markdown",
   "metadata": {},
   "source": [
    "Describe the dataframes"
   ]
  },
  {
   "cell_type": "code",
   "execution_count": null,
   "metadata": {},
   "outputs": [],
   "source": [
    "normalData.describe()"
   ]
  },
  {
   "cell_type": "code",
   "execution_count": 3,
   "metadata": {},
   "outputs": [
    {
     "data": {
      "text/html": [
       "<div>\n",
       "<style scoped>\n",
       "    .dataframe tbody tr th:only-of-type {\n",
       "        vertical-align: middle;\n",
       "    }\n",
       "\n",
       "    .dataframe tbody tr th {\n",
       "        vertical-align: top;\n",
       "    }\n",
       "\n",
       "    .dataframe thead th {\n",
       "        text-align: right;\n",
       "    }\n",
       "</style>\n",
       "<table border=\"1\" class=\"dataframe\">\n",
       "  <thead>\n",
       "    <tr style=\"text-align: right;\">\n",
       "      <th></th>\n",
       "      <th>UserID</th>\n",
       "      <th>NumberOfFollowings</th>\n",
       "      <th>NumberOfFollowers</th>\n",
       "      <th>NumberOfTweets</th>\n",
       "      <th>LengthOfScreenName</th>\n",
       "      <th>LengthOfDescriptionInUserProfile</th>\n",
       "      <th>BadUser</th>\n",
       "    </tr>\n",
       "  </thead>\n",
       "  <tbody>\n",
       "    <tr>\n",
       "      <td>count</td>\n",
       "      <td>2.222300e+04</td>\n",
       "      <td>22223.000000</td>\n",
       "      <td>2.222300e+04</td>\n",
       "      <td>22223.000000</td>\n",
       "      <td>22223.000000</td>\n",
       "      <td>22223.000000</td>\n",
       "      <td>22223.0</td>\n",
       "    </tr>\n",
       "    <tr>\n",
       "      <td>mean</td>\n",
       "      <td>9.158609e+07</td>\n",
       "      <td>2212.416775</td>\n",
       "      <td>2.308996e+03</td>\n",
       "      <td>1135.044548</td>\n",
       "      <td>11.283445</td>\n",
       "      <td>60.113981</td>\n",
       "      <td>1.0</td>\n",
       "    </tr>\n",
       "    <tr>\n",
       "      <td>std</td>\n",
       "      <td>4.236440e+07</td>\n",
       "      <td>5376.689112</td>\n",
       "      <td>3.415880e+04</td>\n",
       "      <td>4301.928411</td>\n",
       "      <td>2.630156</td>\n",
       "      <td>54.093454</td>\n",
       "      <td>0.0</td>\n",
       "    </tr>\n",
       "    <tr>\n",
       "      <td>min</td>\n",
       "      <td>6.301000e+03</td>\n",
       "      <td>0.000000</td>\n",
       "      <td>0.000000e+00</td>\n",
       "      <td>0.000000</td>\n",
       "      <td>2.000000</td>\n",
       "      <td>0.000000</td>\n",
       "      <td>1.0</td>\n",
       "    </tr>\n",
       "    <tr>\n",
       "      <td>25%</td>\n",
       "      <td>5.912933e+07</td>\n",
       "      <td>326.500000</td>\n",
       "      <td>6.500000e+01</td>\n",
       "      <td>16.000000</td>\n",
       "      <td>9.000000</td>\n",
       "      <td>0.000000</td>\n",
       "      <td>1.0</td>\n",
       "    </tr>\n",
       "    <tr>\n",
       "      <td>50%</td>\n",
       "      <td>9.993590e+07</td>\n",
       "      <td>874.000000</td>\n",
       "      <td>2.950000e+02</td>\n",
       "      <td>113.000000</td>\n",
       "      <td>11.000000</td>\n",
       "      <td>54.000000</td>\n",
       "      <td>1.0</td>\n",
       "    </tr>\n",
       "    <tr>\n",
       "      <td>75%</td>\n",
       "      <td>1.225270e+08</td>\n",
       "      <td>1878.000000</td>\n",
       "      <td>1.224000e+03</td>\n",
       "      <td>636.000000</td>\n",
       "      <td>13.000000</td>\n",
       "      <td>104.000000</td>\n",
       "      <td>1.0</td>\n",
       "    </tr>\n",
       "    <tr>\n",
       "      <td>max</td>\n",
       "      <td>1.737670e+08</td>\n",
       "      <td>109388.000000</td>\n",
       "      <td>4.309347e+06</td>\n",
       "      <td>148047.000000</td>\n",
       "      <td>15.000000</td>\n",
       "      <td>474.000000</td>\n",
       "      <td>1.0</td>\n",
       "    </tr>\n",
       "  </tbody>\n",
       "</table>\n",
       "</div>"
      ],
      "text/plain": [
       "             UserID  NumberOfFollowings  NumberOfFollowers  NumberOfTweets  \\\n",
       "count  2.222300e+04        22223.000000       2.222300e+04    22223.000000   \n",
       "mean   9.158609e+07         2212.416775       2.308996e+03     1135.044548   \n",
       "std    4.236440e+07         5376.689112       3.415880e+04     4301.928411   \n",
       "min    6.301000e+03            0.000000       0.000000e+00        0.000000   \n",
       "25%    5.912933e+07          326.500000       6.500000e+01       16.000000   \n",
       "50%    9.993590e+07          874.000000       2.950000e+02      113.000000   \n",
       "75%    1.225270e+08         1878.000000       1.224000e+03      636.000000   \n",
       "max    1.737670e+08       109388.000000       4.309347e+06   148047.000000   \n",
       "\n",
       "       LengthOfScreenName  LengthOfDescriptionInUserProfile  BadUser  \n",
       "count        22223.000000                      22223.000000  22223.0  \n",
       "mean            11.283445                         60.113981      1.0  \n",
       "std              2.630156                         54.093454      0.0  \n",
       "min              2.000000                          0.000000      1.0  \n",
       "25%              9.000000                          0.000000      1.0  \n",
       "50%             11.000000                         54.000000      1.0  \n",
       "75%             13.000000                        104.000000      1.0  \n",
       "max             15.000000                        474.000000      1.0  "
      ]
     },
     "execution_count": 3,
     "metadata": {},
     "output_type": "execute_result"
    }
   ],
   "source": [
    "badData.describe()"
   ]
  },
  {
   "cell_type": "markdown",
   "metadata": {},
   "source": [
    "Print the first 5 rows of the dataframes"
   ]
  },
  {
   "cell_type": "code",
   "execution_count": null,
   "metadata": {},
   "outputs": [],
   "source": [
    "normalData.head(5)"
   ]
  },
  {
   "cell_type": "code",
   "execution_count": null,
   "metadata": {},
   "outputs": [],
   "source": [
    "badData.head(5)"
   ]
  },
  {
   "cell_type": "markdown",
   "metadata": {},
   "source": [
    "Print row 35 of each dataframe"
   ]
  },
  {
   "cell_type": "code",
   "execution_count": null,
   "metadata": {},
   "outputs": [],
   "source": [
    "print(normalData.iloc[35])\n",
    "print(badData.iloc[35])"
   ]
  },
  {
   "cell_type": "markdown",
   "metadata": {},
   "source": [
    "Print the 700th row of the 4th column of each dataframe"
   ]
  },
  {
   "cell_type": "code",
   "execution_count": null,
   "metadata": {},
   "outputs": [],
   "source": [
    "print(normalData.iat[700,4])\n",
    "print(badData.iat[700,4])"
   ]
  },
  {
   "cell_type": "markdown",
   "metadata": {},
   "source": [
    "What is the minimum and maximum of 'NumberOfFollowings' for each dataset\n",
    "\n",
    "#### Does it match the max value given in describe?"
   ]
  },
  {
   "cell_type": "code",
   "execution_count": null,
   "metadata": {},
   "outputs": [],
   "source": [
    "print(\"minimum of normalData['NumberOfFollowings'] is {} \".format(normalData['NumberOfFollowings'].min()))\n",
    "print(\"maximum of normalData['NumberOfFollowings'] is {} \".format(normalData['NumberOfFollowings'].max()))\n",
    "print(\"minimum of badData['NumberOfFollowings'] is {} \".format(badData['NumberOfFollowings'].min()))\n",
    "print(\"maximum of badData['NumberOfFollowings'] is {} \".format(badData['NumberOfFollowings'].max()))\n"
   ]
  },
  {
   "cell_type": "markdown",
   "metadata": {},
   "source": [
    "Merge the datasets together, keeping the columns the same\n",
    "\n",
    "Sort the values once again by the 'CollectedAt' column"
   ]
  },
  {
   "cell_type": "code",
   "execution_count": null,
   "metadata": {},
   "outputs": [],
   "source": [
    "mergedData = pd.concat([badData,normalData])\n",
    "mergedData.sort_values(by=['CollectedAt'], inplace=True)"
   ]
  },
  {
   "cell_type": "markdown",
   "metadata": {},
   "source": [
    "Save all 3 DataFrames as csv with your first initial and last name (i.e. msack for mandy sack)"
   ]
  },
  {
   "cell_type": "code",
   "execution_count": null,
   "metadata": {},
   "outputs": [],
   "source": [
    "normalData.to_csv(dataDir+\"legitimate_users_msack.csv\",index=False)\n",
    "badData.to_csv(dataDir+\"content_polluters_msack.csv\",index=False)\n",
    "mergedData.to_csv(dataDir+\"mergedData_msack.csv\")"
   ]
  },
  {
   "cell_type": "markdown",
   "metadata": {},
   "source": [
    " Read in the merged dataframe you just saved, and list the columns, you will need to update the path to your path\n",
    " \n",
    " ### What does the Unnamed: 0 column mean?"
   ]
  },
  {
   "cell_type": "code",
   "execution_count": null,
   "metadata": {},
   "outputs": [],
   "source": [
    "df_merged = pd.read_csv(\"/Users/mandysack/Desktop/DeepLearningAnalyticsProject-master/data/mergedData_msack.csv\")\n",
    "df_merged.columns\n"
   ]
  },
  {
   "cell_type": "markdown",
   "metadata": {},
   "source": [
    "Make a copy of the merged dataframe"
   ]
  },
  {
   "cell_type": "code",
   "execution_count": null,
   "metadata": {},
   "outputs": [],
   "source": [
    "df_cp = df_merged.copy()"
   ]
  },
  {
   "cell_type": "markdown",
   "metadata": {},
   "source": [
    "Drop the 'Unnamed: 0' and 'UserID' columns"
   ]
  },
  {
   "cell_type": "code",
   "execution_count": null,
   "metadata": {},
   "outputs": [],
   "source": [
    "df_cp.drop(columns=['Unnamed: 0', 'UserID'], inplace=True)\n",
    "df_cp"
   ]
  },
  {
   "cell_type": "markdown",
   "metadata": {},
   "source": [
    "Print the covariance of the dataframe"
   ]
  },
  {
   "cell_type": "code",
   "execution_count": null,
   "metadata": {},
   "outputs": [],
   "source": [
    "#Covariance\n",
    "df_cp.cov()"
   ]
  },
  {
   "cell_type": "markdown",
   "metadata": {},
   "source": [
    "Plot histograms of the dataframes, set the figure size to 10x10\n"
   ]
  },
  {
   "cell_type": "code",
   "execution_count": null,
   "metadata": {},
   "outputs": [],
   "source": [
    "df_cp.hist(figsize=(10,10))"
   ]
  },
  {
   "cell_type": "markdown",
   "metadata": {},
   "source": [
    "Print the correlation of the dataframe\n"
   ]
  },
  {
   "cell_type": "code",
   "execution_count": null,
   "metadata": {},
   "outputs": [],
   "source": [
    "df_cp.corr()"
   ]
  },
  {
   "cell_type": "markdown",
   "metadata": {},
   "source": [
    "Plot the correlation using matshow"
   ]
  },
  {
   "cell_type": "code",
   "execution_count": null,
   "metadata": {},
   "outputs": [],
   "source": [
    "plt.matshow(df_cp.corr())"
   ]
  },
  {
   "cell_type": "markdown",
   "metadata": {},
   "source": [
    "Here is another way to plot the correlation"
   ]
  },
  {
   "cell_type": "code",
   "execution_count": null,
   "metadata": {},
   "outputs": [],
   "source": [
    "labels = [c[:10] for c in df_cp.corr().columns]\n",
    "\n",
    "fig = plt.figure(figsize=(10,10))\n",
    "ax = fig.add_subplot(111)\n",
    "ax.set_xticks(np.arange(len(labels)))\n",
    "ax.set_yticks(np.arange(len(labels)))\n",
    "ax.set_xticklabels(labels)\n",
    "ax.set_yticklabels(labels)\n",
    "ax.matshow(df_cp.corr(), cmap=plt.cm.RdYlGn)\n",
    "plt.show()"
   ]
  },
  {
   "cell_type": "markdown",
   "metadata": {},
   "source": [
    "Group the dataframe by ['BadUser'].\n",
    "\n",
    "Then list the number of groups ->should be 2"
   ]
  },
  {
   "cell_type": "code",
   "execution_count": null,
   "metadata": {},
   "outputs": [],
   "source": [
    "gb = df_cp.groupby(['BadUser'],as_index=False)\n",
    "\n",
    "gb.ngroups"
   ]
  },
  {
   "cell_type": "markdown",
   "metadata": {},
   "source": [
    "copy the df_cp, then plot each of the columns\n",
    "\n",
    "Plotting all of the columns separatly, you can see that things are hard to see any patterns.\n",
    "\n",
    "Adding a rolling mean will enable you to better visually see the data \n"
   ]
  },
  {
   "cell_type": "code",
   "execution_count": null,
   "metadata": {},
   "outputs": [],
   "source": [
    "df = df_cp.copy()\n",
    "df['NumberOfFollowings'].plot()\n",
    "df['NumberOfFollowers'].plot()\n",
    "df['NumberOfTweets'].plot()\n",
    "df['LengthOfScreenName'].plot()\n",
    "df['LengthOfDescriptionInUserProfile'].plot()"
   ]
  },
  {
   "cell_type": "markdown",
   "metadata": {},
   "source": [
    "Assign a variable to the df['NumberOfFollowings'].rolling().mean(), then plot the variable\n",
    "\n",
    "Try with a rolling value of 25, 350, and 1000. What happens?"
   ]
  },
  {
   "cell_type": "code",
   "execution_count": null,
   "metadata": {},
   "outputs": [],
   "source": [
    "df_NOF_mean = df['NumberOfFollowings'].rolling(700).mean()\n",
    "df_NOF_mean.plot()"
   ]
  },
  {
   "cell_type": "markdown",
   "metadata": {},
   "source": [
    "Assign a variable to the df['NumberOfFollowers'].rolling().mean(), then plot the variable\n",
    "\n",
    "Try with at least 3 different rolling values. What happens?"
   ]
  },
  {
   "cell_type": "code",
   "execution_count": null,
   "metadata": {},
   "outputs": [],
   "source": [
    "df_NOFs_mean = df['NumberOfFollowers'].rolling(2000).mean()\n",
    "df_NOFs_mean.plot()"
   ]
  },
  {
   "cell_type": "markdown",
   "metadata": {},
   "source": [
    "Assign a variable to the df['LengthOfScreenName'].rolling().mean(), then plot the variable\n",
    "\n",
    "Try with at least 3 different rolling values. What happens?"
   ]
  },
  {
   "cell_type": "code",
   "execution_count": null,
   "metadata": {},
   "outputs": [],
   "source": [
    "df_LOSN_mean = df['LengthOfScreenName'].rolling(500).mean()\n",
    "df_LOSN_mean.plot()"
   ]
  },
  {
   "cell_type": "markdown",
   "metadata": {},
   "source": [
    "Assign a variable to the df['LengthOfDescriptionInUserProfile'].rolling().mean(), then plot the variable\n",
    "\n",
    "Try with at least 3 different rolling values. What happens?"
   ]
  },
  {
   "cell_type": "code",
   "execution_count": null,
   "metadata": {},
   "outputs": [],
   "source": [
    "df_LODIUP_mean = df['LengthOfDescriptionInUserProfile'].rolling(1500).mean()\n",
    "df_LODIUP_mean.plot()"
   ]
  },
  {
   "cell_type": "markdown",
   "metadata": {},
   "source": [
    "Assign a variable to the df['NumberOfTweets'].rolling().mean(), then plot the variable\n",
    "\n",
    "Try with at least 3 different rolling values. What happens?\n",
    "\n",
    "Does the shape of this plot look different from the others?"
   ]
  },
  {
   "cell_type": "code",
   "execution_count": null,
   "metadata": {},
   "outputs": [],
   "source": [
    "df_NumOTW_mean = df['NumberOfTweets'].rolling(3500).mean()\n",
    "df_NumOTW_mean.plot()"
   ]
  },
  {
   "cell_type": "markdown",
   "metadata": {},
   "source": [
    "Plot the ['BadUser'] column"
   ]
  },
  {
   "cell_type": "code",
   "execution_count": null,
   "metadata": {},
   "outputs": [],
   "source": [
    "df['BadUser'].plot()"
   ]
  },
  {
   "cell_type": "markdown",
   "metadata": {},
   "source": [
    "Create a plot of figsize 15x10, show the gridlines, \n",
    "plot all of the rolling mean variables that were just created with the appropriate label\n",
    "plot the legend at loc=2\n",
    "show the plot\n",
    "\n",
    "How does this plot look different from the plot we first did?"
   ]
  },
  {
   "cell_type": "code",
   "execution_count": null,
   "metadata": {},
   "outputs": [],
   "source": [
    "plt.figure(figsize=[15,10])\n",
    "plt.grid(True)\n",
    "plt.plot( df_NOFs_mean ,label='Num of Followers (mean)')\n",
    "plt.plot( df_NOF_mean ,label='Num of Followings (mean)')\n",
    "plt.plot( df_LOSN_mean ,label='Len Screen Name (mean)')\n",
    "plt.plot( df_LODIUP_mean ,label='Len Description User Profile (mean)')\n",
    "plt.plot( df_NumOTW_mean, label='Num Of Tweets (mean)')\n",
    "plt.legend(loc=2)\n",
    "plt.show()"
   ]
  },
  {
   "cell_type": "markdown",
   "metadata": {},
   "source": [
    "Create a plot of figsize 15x10, show the gridlines, \n",
    "plot the Len Screen Name and Len Description User Profile rolling mean variables that were just created with the appropriate label along with the Bad User \n",
    "plot the legend at loc=2\n",
    "show the plot\n",
    "\n",
    "How does this plot look different from the plot we first did?"
   ]
  },
  {
   "cell_type": "code",
   "execution_count": null,
   "metadata": {},
   "outputs": [],
   "source": [
    "plt.figure(figsize=[15,10])\n",
    "plt.grid(True)\n",
    "plt.plot( df['BadUser'] ,label='BadUser')\n",
    "plt.plot( df_LOSN_mean ,label='Len Screen Name (mean)')\n",
    "plt.plot( df_LODIUP_mean ,label='Len Description User Profile (mean)')\n",
    "plt.legend(loc=2)\n",
    "plt.show()"
   ]
  },
  {
   "cell_type": "code",
   "execution_count": null,
   "metadata": {},
   "outputs": [],
   "source": [
    "df_c2 = df_cp.copy()"
   ]
  },
  {
   "cell_type": "code",
   "execution_count": null,
   "metadata": {},
   "outputs": [],
   "source": [
    "df_c2['NumberOfFollowers'].head()"
   ]
  },
  {
   "cell_type": "code",
   "execution_count": null,
   "metadata": {},
   "outputs": [],
   "source": [
    "test = df_merged.copy()"
   ]
  },
  {
   "cell_type": "code",
   "execution_count": null,
   "metadata": {},
   "outputs": [],
   "source": [
    "test['NumberOfFollowers'].describe()"
   ]
  },
  {
   "cell_type": "code",
   "execution_count": null,
   "metadata": {},
   "outputs": [],
   "source": []
  },
  {
   "cell_type": "markdown",
   "metadata": {},
   "source": [
    "The next section will put an X on each of the lines where BadUser changes (i.e. from 1 to 0 or 0 to 1) - TODO Later"
   ]
  },
  {
   "cell_type": "code",
   "execution_count": null,
   "metadata": {},
   "outputs": [],
   "source": [
    "# A way to find out when the changes happened in all of the columns can be done like this\n",
    "df.ne(df.shift()).apply(lambda x: x.index[x].tolist())"
   ]
  },
  {
   "cell_type": "code",
   "execution_count": null,
   "metadata": {},
   "outputs": [],
   "source": [
    "#find the values of changes for the Bad User\n",
    "df_cp['BadUser'].iloc[0]"
   ]
  },
  {
   "cell_type": "code",
   "execution_count": null,
   "metadata": {},
   "outputs": [],
   "source": [
    "#since this starts at 1, we will want to find when the the BadUser value goes to 0\n",
    "df_diff_to_zero = ( df_cp['BadUser'].diff() == -1)\n",
    "userAtZero = np.where(df_diff_to_zero)[0]"
   ]
  },
  {
   "cell_type": "code",
   "execution_count": null,
   "metadata": {},
   "outputs": [],
   "source": [
    "#we will want to find when the the BadUser value goes back to 1\n",
    "df_diff_to_one = ( df_cp['BadUser'].diff() == 1) \n",
    "userAtOne = np.where(df_diff_to_one)[0]"
   ]
  },
  {
   "cell_type": "code",
   "execution_count": null,
   "metadata": {},
   "outputs": [],
   "source": [
    "#We want to draw an X at the point where the good users start and stop on the lines,\n",
    "#We will need to find the y values when the x values change  \n",
    "#col = ['NumberOfFollowings', 'NumberOfFollowers', 'NumberOfTweets', 'LengthOfScreenName','LengthOfDescriptionInUserProfile']\n",
    "#x_points = np.vstack((userAtZero, userAtOne))\n",
    "#points = np.empty([len(col)*len(x_points), 2])\n",
    "#points = np.array([])\n",
    "#print(points.shape)\n",
    "#for i in col:\n",
    "#    print(i)\n",
    "#    for x in x_points:\n",
    "#        x = x.item()\n",
    "#        new_point = df_cp.at[x,i]\n",
    "#        #print(new_point)\n",
    "#        #print(np.array([x,new_point]))\n",
    "#        #points = np.insert(a, 1, 5)\n",
    "#        points = np.append(points, np.array([x, new_point]),axis=0)\n",
    "#        print(points)\n",
    "#print(points)\n",
    "#points.shape"
   ]
  },
  {
   "cell_type": "code",
   "execution_count": null,
   "metadata": {},
   "outputs": [],
   "source": []
  }
 ],
 "metadata": {
  "kernelspec": {
   "display_name": "Python 3",
   "language": "python",
   "name": "python3"
  },
  "language_info": {
   "codemirror_mode": {
    "name": "ipython",
    "version": 3
   },
   "file_extension": ".py",
   "mimetype": "text/x-python",
   "name": "python",
   "nbconvert_exporter": "python",
   "pygments_lexer": "ipython3",
   "version": "3.7.4"
  }
 },
 "nbformat": 4,
 "nbformat_minor": 2
}
